{
 "cells": [
  {
   "cell_type": "code",
   "execution_count": 17,
   "id": "368c00b6",
   "metadata": {},
   "outputs": [],
   "source": [
    "import requests\n",
    "from bs4 import BeautifulSoup\n",
    "from csv import writer\n",
    "import pandas as pd\n",
    "import csv"
   ]
  },
  {
   "cell_type": "code",
   "execution_count": 18,
   "id": "7cca409b",
   "metadata": {},
   "outputs": [],
   "source": [
    "url= 'https://www.nobroker.in/prophub/new-builder-projects/new-builder-projects-in-bangalore/'\n",
    "res = requests.get(url=url)\n",
    "html_content = res.content\n",
    "soup = BeautifulSoup(html_content,'html.parser')"
   ]
  },
  {
   "cell_type": "code",
   "execution_count": 15,
   "id": "d063bf01",
   "metadata": {},
   "outputs": [
    {
     "name": "stdout",
     "output_type": "stream",
     "text": [
      "{'project_name': ['Adarsh Palm Retreat Mayberry', 'Ardente Pine Grove', 'Parkside East By Brigade', 'Urban Serenity', 'Klassik Landmark', 'Kolte Patil Raaga', 'L&T Rain Tree Boulevard', 'Terra Alegria', 'Mahaveer Ranches', 'Mahaveer Northscape', 'Mahaveer Carnation', 'Mahaveer Sitara', 'Ozone Urbana Prime', 'Ozone Pole Star', 'Prestige Lake Ridge', 'Prestige Park Square', 'Prestige Primrose Hills', 'Prestige Song of South', 'Prestige Elysian', 'Prestige Finsbury Park', 'Prestige Waterford', 'Pride Pegasus', 'Pride Enchanta Phase 2', 'Pride Wilasa', 'Provident Capella', 'Provident Park Square', 'Provident Equinox', 'ooGoodHomes/Provident Neora', 'Provident The Tree', 'Purva Palm Beach', 'Purva Zenium', 'Purva Atmosphere', 'Purva Promenade', 'RJ Lake Gardenia', 'Rohan Upavan', 'Rohan Akriti', 'Salarpuria East Crest', 'Salarpuria Opus', 'Salarpuria Laurel Heights'], 'bhk': ['2 BHK, 3 BHK', '3 BHK', '1 BHK, 2 BHK', '3 BHK 1580', '3 BHK', '2 BHK, 3 BHK', '2 BHK, 3 BHK', '3 BHK', '3 BHK', '1 BHK, 2 BHK', '2 BHK', '3 BHK 1518', '2 BHK, 3 BHK', '2 BHK, 3 BHK', '1 BHK, 2 BHK, 3 BHK', '2 BHK, 3 BHK', '1 BHK, 2 BHK,', '2 BHK, 3 BHK', '2 BHK, 3 BHK', '1 BHK, 2 BHK, 3 BHK', '1 BHK, 2 BHK, 3 BHK', '2 BHK, 3 BHK', '2 BHK, 3 BHK', '3 BHK 3400', '1 BHK, 2 BHK, 3 BHK', '1 BHK, 2 BHK, 3 BHK', '2 BHK, 3 BHK', '2 BHK,', '2 BHK, 3 BHK', '2 BHK, 3 BHK', '2 BHK, 3 BHK', '2 BHK, 3 BHK', '3 BHK', '3 BHK', '1 BHK, 2 BHK, 3 BHK', '1 BHK, 3 BHK', '3 BHK', '2 BHK, 3 BHK', '2 BHK'], 'price': ['80,106', '87', '44,69', '119,147', '106', '55,64', '106,129,188', '130', '72,98', '41,60,64', '70', '163,218', '55,69,144', '108,140', '43,74,88', '82,100', '35,55', '80,108', '88,106', '39,59,75', '24,117,136,189', '78,106', '89,115', '208,306', '50,64,74', '38,55,85', '50,60', '55', '51,68', '94,125', '78,94', '117,146,217', '84,100', '167,245', '36,59,82', '36,59,90', '89', '88,111', '66']}\n"
     ]
    }
   ],
   "source": [
    "project_name = []\n",
    "property_details = {'project_name':[],'bhk':[],'price':[]}\n",
    "with open('housing_bangalore.csv','w',encoding='utf8',newline='') as f:\n",
    "    thewriter = writer(f)\n",
    "    header = ['project_name','bhk','price']\n",
    "    thewriter.writerow(header)\n",
    "    for inner_ul in soup.find_all('ul'):\n",
    "        for inner_li in inner_ul:\n",
    "            for inner_most_li in inner_li:\n",
    "                if 'Project Name' in inner_most_li:\n",
    "                    property_details ['project_name'].append(inner_most_li.split(\":\")[1].strip())\n",
    "                if 'Price' in inner_most_li:\n",
    "                    property_details ['price'].append(inner_most_li.split(\":\")[1].strip())\n",
    "                if 'BHK Type' in inner_most_li:\n",
    "                    property_details ['bhk'].append(inner_most_li.split(\":\")[1].strip())\n",
    "    print(property_details)"
   ]
  },
  {
   "cell_type": "code",
   "execution_count": 23,
   "id": "4fa7fb1e",
   "metadata": {},
   "outputs": [
    {
     "name": "stdout",
     "output_type": "stream",
     "text": [
      "{'project_name': ['Urbanrise Jubilee Residences', 'Urbanrise Jasmine Springs', 'Urbanrise Codename Gold Standard', 'Manhattan Condos', 'Alliance Orchid Springs', 'Alliance Humming Gardens', 'Alliance Galleria Residences', 'Alliance Bougainvillea', 'Casagrand Bloom', 'Casagrand ECR 14', 'Casagrand Crescendo', 'Casagrand Castle', 'Casagrand Northern Star', 'Casagrand Royale', 'Casagrand Sereno', 'Casagrand Tudor', 'Casagrand Zenith', 'Casagrand Zenith', 'Casagrand Savoye', 'Casagrand Smart Town', 'Casagrand Asta', 'Casagrand Amethyst', 'Casagrand Athens', 'Casagrand First City Phase 1 & 2', 'Casagrand First City Phase 1 & 2', 'Casagrand Millenia', 'Casagarnd Monte Carlo', 'Casagrand Olympus', 'Casagrand Supremus', 'Casagrand Uptown', 'Casagrand Utopia', 'Casagrand Westend', 'Akshaya Today', 'Akshaya Orlando', 'Akshaya Twin D', 'Akshaya Tango', 'Akshaya Earth', 'Akshaya Vaan Megam', 'Akshaya Republic', 'KG Earth Homes Phase II', 'KG Centre Point', 'KG SIGNATURE CITY PHASE II', 'KG CHANDRA VISTA', 'KG Centre Point', 'KG DOGRA GARDENS', 'Radiance Elite', 'Radiance Suprema', 'Radiance Smartville', 'Radiance Sapphire'], 'bhk': ['1 BHK,2 BHK', '1 BHK,2 BHK', '2 BHK,3 BHK', '2 BHK,3 BHK,', '2 BHK,3 BHK,4 BHK', '2 BHK,3 BHK,4 BHK', '1 BHK,2 BHK,3 BHK', '2 BHK,3 BHK,', '2 BHK,3 BHK', '2 BHK,3 BHK', '2 BHK,3 BHK', '2 BHK,3 BHK', '2 BHK,3 BHK', '2 BHK,3 BHK,4 BHK', '2 BHK', '2 BHK,3 BHK,4 BHK', '2 BHK,3 BHK,4 BHK', '2 BHK,3 BHK', '2 BHK,3 BHK', '2 BHK', '2 BHK,3 BHK', '2 BHK,3 BHK,4 BHK', '2 BHK,3 BHK,4 BHK', '2 BHK,3 BHK,4 BHK', '2 BHK,3 BHK,4 BHK', '2 BHK,3 BHK,4 BHK', '4 BHK', '2 BHK,3 BHK', '2 BHK,4 BHK', '2 BHK,3 BHK,4 BHK', '2 BHK,3 BHK,4 BHK', '2 BHK,3 BHK', '2 BHK,3 BHK', '2 BHK,3 BHK', '2 BHK,3 BHK', '2 BHK,3 BHK', '2 BHK,3 BHK,4 BHK', '1 BHK,2 BHK,3 BHK', '2 BHK,3 BHK,', '2 BHK,3 BHK', '1 BHK,2 BHK,3 BHK,', '2 BHK,3 BHK', '2 BHK,3 BHK,4 BHK', '1 BHK,2 BHK,3 BHK', '2 BHK,3 BHK', '2 BHK,3 BHK', '2 BHK,3 BHK', '2 BHK', '2 BHK,3 BHK'], 'price': ['19,26', '20,26', '29,34', '29,40', '86,165,4cr', '80,86.38,115', '48.45,90.49,108', '220', '73', '77,81', '40,93', '94', '89', '59,82,110', '41', '69,99,152', '45,93,107', '45,70', '79', '33', '98', '126140', '45,69,118', '50,69,117', '50,69,117', '147179', '352', '331', '104', '19,30,46', '61,91,151', '28,32', '38,47', '38,48', '37,48', '103136', '8,19,30', '15,19,26', '57,84.85', '44,55', '23,40,49', '97', '92130', '23,40,49', '207', '284', '58.53,65.84', '13', '67,80']}\n"
     ]
    }
   ],
   "source": [
    "project_name = []\n",
    "property_details = {'project_name':[],'bhk':[],'price':[]}\n",
    "with open('housing_chennai.csv','w',encoding='utf8',newline='') as f:\n",
    "    thewriter = writer(f)\n",
    "    header = ['project_name','bhk','price']\n",
    "    thewriter.writerow(header)\n",
    "    for inner_ul in soup.find_all('ul'):\n",
    "        for inner_li in inner_ul:\n",
    "            for inner_most_li in inner_li:\n",
    "                if 'Project Name' in inner_most_li:\n",
    "                    property_details ['project_name'].append(inner_most_li.split(\":\")[1].strip())\n",
    "                if 'Price' in inner_most_li:\n",
    "                    property_details ['price'].append(inner_most_li.split(\":\")[1].strip())\n",
    "                if 'BHK Type' in inner_most_li:\n",
    "                    property_details ['bhk'].append(inner_most_li.split(\":\")[1].strip())\n",
    "    print(property_details)"
   ]
  },
  {
   "cell_type": "code",
   "execution_count": 24,
   "id": "317a8ed7",
   "metadata": {},
   "outputs": [
    {
     "name": "stdout",
     "output_type": "stream",
     "text": [
      "{'project_name': ['Godrej Nature Plus', 'Godrej Air Sector-85', 'Ambience Creacions', 'Mahindra Luminare', 'Birla Navya', 'Aradhya Homes', 'Sobha CIty', 'Godrej Serenity', 'Emaar Palm Heights', 'DLF Luxury Floors Phase 2', 'Paras Dews', 'Platinum Towers', 'Anantraj Manor Villas', 'Emaar Digi Homes', 'FLower Valley -  Aqua front towers', 'FLower Valley - Cerise Floors', 'FLower Valley - Clover Floors', 'FLower Valley Flamingo Floors', 'FLower Valley Flamingo Floors', 'SS The Leaf', 'DLF Sky court', 'Godrej Serenity', 'Shapoorji Pallonji Joyville', 'Eldeco Live by the Green', 'Kalpataru Vista', 'Signature Global Park 4 & 5', 'Signature Global Sector 37D', 'Signature Global Sector 92', 'Mountville', 'M3M St. Andrews', 'M3M Skycity', 'Waterfall Residences', 'Experion The Heartsong', 'Experion The Westerlies', 'Experion Windchants', 'Paras Quartier', 'Signature Global City 81', 'Conscient Hine Elevate'], 'bhk': ['2BHK,3BHK', '3BHK,4BHK', '3BHK,4BHK', '3BHK,4BHK', '3BHK,4BHK', '4BHK', '3BHK', '2BHK,3BHK', '3BHK', '4BHK', '2BHK,3BHK,4BHK', '3BHK,4BHK', '4BHK', '2BHK,3BHK', '3BHK,4BHK', '2BHK', '4BHK', '2BHK,3BHK', '2BHK,3BHK', '3BHK,4BHK', '3BHK', '2BHK,3BHK', '2BHK,3BHK', '2BHK,3BHK', '3BHK,4BHK', '2BHK,3BHK', '2BHK,3BHK', '2BHK,3BHK', '3BHK,4BHK', '4BHK', '3BHK', '2BHK,3BHK', '2BHK,3BHK,4BHK', '2BHK', '2BHK,3BHK,4BHK', '4BHK', '2BHK,3BHK', '3BHK'], 'price': ['107,170', '181,221', '344 - 382,487', '364,442', '207,292- 409', '143 -155', '154 - 280', '89,94,115 - 150', '137', '350-550', '94,106 - 121,150', '401,505 - 715', '4.55', '170,280', '162 -191,231', '102', '202', '88,96', '85,95', '159,186', '152', '76,80,101-137', '74.75 - 96.30,133 -144', '67,81', '269,353', '45,64', '62,78', '61,69', '90.5 - 121.5 ,166-177', '855', '236.7 - \\n250', '165,2.05 -2.75', '86,112-153,169 -189', '178 -298,', '211,240-\\n319,412', '8.4', '65-70,74.5-80', '280-347']}\n"
     ]
    }
   ],
   "source": [
    "project_name = []\n",
    "property_details = {'project_name':[],'bhk':[],'price':[]}\n",
    "with open('housing_delhi.csv','w',encoding='utf8',newline='') as f:\n",
    "    thewriter = writer(f)\n",
    "    header = ['project_name','bhk','price']\n",
    "    thewriter.writerow(header)\n",
    "    for inner_ul in soup.find_all('ul'):\n",
    "        for inner_li in inner_ul:\n",
    "            for inner_most_li in inner_li:\n",
    "                if 'Project Name' in inner_most_li:\n",
    "                    property_details ['project_name'].append(inner_most_li.split(\":\")[1].strip())\n",
    "                if 'Price' in inner_most_li:\n",
    "                    property_details ['price'].append(inner_most_li.split(\":\")[1].strip())\n",
    "                if 'BHK Type' in inner_most_li:\n",
    "                    property_details ['bhk'].append(inner_most_li.split(\":\")[1].strip())\n",
    "    print(property_details)"
   ]
  },
  {
   "cell_type": "code",
   "execution_count": 26,
   "id": "644706f7",
   "metadata": {},
   "outputs": [
    {
     "name": "stdout",
     "output_type": "stream",
     "text": [
      "{'project_name': ['Vasant Oasis', 'Platinum Life', 'Piramal Vaikunth', 'Dosti West County', 'Runwal Eirene', 'Shapoorji Pallonji BKC 28', 'Rivali Park', 'Triumph Siddhivinayak', 'Godrej Urban Park', 'Mahindra Alcove', 'Lodha Splendora', 'Puraniks City Reserva', 'Oberoi Esquire', 'satellite elegance', 'Sunteck City', 'Ashar Aria', 'Mahindra Happinest', 'Godrej Nest', 'TW Gardens', 'Sheth Avante', 'Rustomjee Urbania', 'Lodha Amara', 'Lodha Crown', 'Lodha Vista', 'Gurukrupa Marina Enclave', 'Lodha Upper Thane', 'Hiranandani Fortune City', 'Balaji Symphony', 'Marathon Nexzone', 'Kalpataru Park Riviera', 'The Highlands Godrej City', 'Raymond Ten X Habitat', 'The Masters Collection', 'The Masters Collection', 'Riverwood Park', 'Godrej Emerald', 'Sheth Zuri', 'Dev Ashoka', 'Ashar Metro Towers', 'Ashar Edge', 'Bhoomi Acres', 'Lakhani Empire Tower', 'Raunak Supreme', 'Courtyard', 'Puranik Grand Central', 'Lodha New Cuffe Parade', 'Cornerstone', 'Rustomjee Seasons', 'Kanakia Paris'], 'bhk': ['2BHK,3BHK', '1BHK,2BHK,3BHK', '2BHK,3BHK', '1BHK,2BHK,3BHK', '1BHK,2BHK,3BHK', '2BHK', '1BHK,2BHK,3BHK,4BHK', '2BHK,', '1BHK,2BHK,3BHK', '1BHK,2BHK', '2BHK,3BHK,4BHK', '1BHK,2BHK', '3BHK,4BHK', '1BHK,2BHK', '2BHK,3BHK', '1BHK,2BHK', '1BHK,2BHK', '1BHK,2BHK,3BHK', '2BHK,3BHK', '1BHK,2BHK,3BHK', '2BHK,3BHK', '1BHK,2BHK,3BHK', '1BHK,2BHK', '2BHK', '1BHK,2BHK,3BHK,', '1BHK,2BHK,3BHK', '2BHK,3BHK', '2BHK,3BHK', '1BHK,2BHK,3BHK', '2BHK', '2BHK,3BHK', '1BHK', '1BHK,2BHK,3BHK', '1BHK,2BHK,3BHK,4BHK', '1BHK,2BHK', '2BHK,3BHK', '1BHK,2BHK,3BHK', '2BHK,3BHK', '1BHK,2BHK', '1BHK,2BHK', '1BHK,2BHK,3BHK,NA', '3BHK', '2BHK', '2BHK,3BHK', '1BHK,2BHK', '1BHK,2BHK,3BHK', '2BHK', '3BHK', '3BHK'], 'price': ['185,240', '119,239,289', '265,300', '74.97,77,175', '73.99,99.99,189', '280', '135,250,290,600', '185', '125,175,275', '111,176', '102,123,325', '58.8,82.63', '540,850', '112,177', '180,260', '69,96', '31.4,48.45', '104,145,189', '183,240', '119,149,230', '215', '82,110 & 128,195  &  237', '49', '278', '105,165,190', '51.99,64.5,130', '123,190', '83,108', '51.7,75,110', '96', '90,146', '85', '137,188,370', '145,190,290,381', '42,63', '120,150', '96,115,175', '132,182', '79,99', '91,142', '82,115,132', '400', '92', '129,308', '80,120', '190,250,400', '275', '518', '470']}\n"
     ]
    }
   ],
   "source": [
    "project_name = []\n",
    "property_details = {'project_name':[],'bhk':[],'price':[]}\n",
    "with open('housing_mumbai.csv','w',encoding='utf8',newline='') as f:\n",
    "    thewriter = writer(f)\n",
    "    header = ['project_name','bhk','price']\n",
    "    thewriter.writerow(header)\n",
    "    for inner_ul in soup.find_all('ul'):\n",
    "        for inner_li in inner_ul:\n",
    "            for inner_most_li in inner_li:\n",
    "                if 'Project Name' in inner_most_li:\n",
    "                    property_details ['project_name'].append(inner_most_li.split(\":\")[1].strip())\n",
    "                if 'Price' in inner_most_li:\n",
    "                    property_details ['price'].append(inner_most_li.split(\":\")[1].strip())\n",
    "                if 'BHK Type' in inner_most_li:\n",
    "                    property_details ['bhk'].append(inner_most_li.split(\":\")[1].strip())\n",
    "    print(property_details)"
   ]
  }
 ],
 "metadata": {
  "kernelspec": {
   "display_name": "Python 3 (ipykernel)",
   "language": "python",
   "name": "python3"
  },
  "language_info": {
   "codemirror_mode": {
    "name": "ipython",
    "version": 3
   },
   "file_extension": ".py",
   "mimetype": "text/x-python",
   "name": "python",
   "nbconvert_exporter": "python",
   "pygments_lexer": "ipython3",
   "version": "3.9.7"
  }
 },
 "nbformat": 4,
 "nbformat_minor": 5
}
